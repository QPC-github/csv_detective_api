{
 "cells": [
  {
   "cell_type": "code",
   "execution_count": null,
   "metadata": {},
   "outputs": [],
   "source": [
    "import matplotlib.pyplot as plt\n",
    "%matplotlib inline\n",
    "import seaborn as sns\n",
    "import json\n",
    "import re\n",
    "import pandas as pd\n",
    "import numpy as np"
   ]
  },
  {
   "cell_type": "code",
   "execution_count": 2,
   "metadata": {},
   "outputs": [],
   "source": [
    "gs_info = json.load(open(\"../data/results.dict.json\"))"
   ]
  },
  {
   "cell_type": "code",
   "execution_count": 3,
   "metadata": {},
   "outputs": [
    {
     "data": {
      "text/plain": [
       "{'n_rows:10_n_files:100': 0.5094641527749696,\n",
       " 'n_rows:10_n_files:300': 0.7152784484314227,\n",
       " 'n_rows:10_n_files:500': 0.7189366623522648,\n",
       " 'n_rows:10_n_files:700': 0.7269010459204918,\n",
       " 'n_rows:10_n_files:1000': 0.765378015000862,\n",
       " 'n_rows:10_n_files:1500': 0.7432043437284622,\n",
       " 'n_rows:10_n_files:2000': 0.7092768243607083,\n",
       " 'n_rows:10_n_files:2500': 0.7092768243607083,\n",
       " 'n_rows:20_n_files:100': 0.5462280418629273,\n",
       " 'n_rows:20_n_files:300': 0.6716479797575735,\n",
       " 'n_rows:20_n_files:500': 0.7418913636466117,\n",
       " 'n_rows:20_n_files:700': 0.7311933278490018,\n",
       " 'n_rows:20_n_files:1000': 0.7603779637735948,\n",
       " 'n_rows:20_n_files:1500': 0.7417426710100627,\n",
       " 'n_rows:20_n_files:2000': 0.7583648770226337,\n",
       " 'n_rows:20_n_files:2500': 0.7583648770226337,\n",
       " 'n_rows:50_n_files:100': 0.5059762195037587,\n",
       " 'n_rows:50_n_files:300': 0.697206342940851,\n",
       " 'n_rows:50_n_files:500': 0.7311175907967669,\n",
       " 'n_rows:50_n_files:700': 0.7224036313239769,\n",
       " 'n_rows:50_n_files:1000': 0.728471735742379,\n",
       " 'n_rows:50_n_files:1500': 0.7472135052448661,\n",
       " 'n_rows:50_n_files:2000': 0.7903153865281577,\n",
       " 'n_rows:50_n_files:2500': 0.7903153865281577,\n",
       " 'n_rows:75_n_files:100': 0.4931171335930373,\n",
       " 'n_rows:75_n_files:300': 0.6796863374595582,\n",
       " 'n_rows:75_n_files:500': 0.6826728499876691,\n",
       " 'n_rows:75_n_files:700': 0.7240811891132162,\n",
       " 'n_rows:75_n_files:1000': 0.7222408449298848,\n",
       " 'n_rows:75_n_files:1500': 0.745436261878985,\n",
       " 'n_rows:75_n_files:2000': 0.7674031508524697,\n",
       " 'n_rows:75_n_files:2500': 0.7674031508524697,\n",
       " 'n_rows:100_n_files:100': 0.4919349130663822,\n",
       " 'n_rows:100_n_files:300': 0.6769521807895292,\n",
       " 'n_rows:100_n_files:500': 0.6905163848821273,\n",
       " 'n_rows:100_n_files:700': 0.72118727221798,\n",
       " 'n_rows:100_n_files:1000': 0.7369998952188336,\n",
       " 'n_rows:100_n_files:1500': 0.746305048659981,\n",
       " 'n_rows:100_n_files:2000': 0.777382007991329,\n",
       " 'n_rows:100_n_files:2500': 0.777382007991329,\n",
       " 'n_rows:150_n_files:100': 0.490619302084271,\n",
       " 'n_rows:150_n_files:300': 0.6985482431072189,\n",
       " 'n_rows:150_n_files:500': 0.7017616626125823,\n",
       " 'n_rows:150_n_files:700': 0.7182157011091526,\n",
       " 'n_rows:150_n_files:1000': 0.7348431064782109,\n",
       " 'n_rows:150_n_files:1500': 0.7470863502581128,\n",
       " 'n_rows:150_n_files:2000': 0.7826148850088644,\n",
       " 'n_rows:150_n_files:2500': 0.7826148850088644,\n",
       " 'n_rows:200_n_files:100': 0.4920222324588286,\n",
       " 'n_rows:200_n_files:300': 0.701542821264576,\n",
       " 'n_rows:200_n_files:500': 0.6943570563210925,\n",
       " 'n_rows:200_n_files:700': 0.722112002500354,\n",
       " 'n_rows:200_n_files:1000': 0.7252025689405012,\n",
       " 'n_rows:200_n_files:1500': 0.7520772763876863,\n",
       " 'n_rows:200_n_files:2000': 0.7846471161585405,\n",
       " 'n_rows:200_n_files:2500': 0.7846471161585405,\n",
       " 'n_rows:250_n_files:100': 0.4793221314428088,\n",
       " 'n_rows:250_n_files:300': 0.7053585542441256,\n",
       " 'n_rows:250_n_files:500': 0.7013330205637527,\n",
       " 'n_rows:250_n_files:700': 0.7129350360713573,\n",
       " 'n_rows:250_n_files:1000': 0.7769051212707301,\n",
       " 'n_rows:250_n_files:1500': 0.7770321243597765,\n",
       " 'n_rows:250_n_files:2000': 0.8300732453754035,\n",
       " 'n_rows:250_n_files:2500': 0.8300732453754035,\n",
       " 'n_rows:300_n_files:100': 0.48233628667798173,\n",
       " 'n_rows:300_n_files:300': 0.6988614925930511,\n",
       " 'n_rows:300_n_files:500': 0.7214395316184297,\n",
       " 'n_rows:300_n_files:700': 0.7047538422889861,\n",
       " 'n_rows:300_n_files:1000': 0.7717374787748361,\n",
       " 'n_rows:300_n_files:1500': 0.7745376011702128,\n",
       " 'n_rows:300_n_files:2000': 0.805734385079079,\n",
       " 'n_rows:300_n_files:2500': 0.805734385079079,\n",
       " 'n_rows:400_n_files:100': 0.5062378892189464,\n",
       " 'n_rows:400_n_files:300': 0.6921139627770704,\n",
       " 'n_rows:400_n_files:500': 0.7486236504064645,\n",
       " 'n_rows:400_n_files:700': 0.716204905581078,\n",
       " 'n_rows:400_n_files:1000': 0.7729652493978921,\n",
       " 'n_rows:400_n_files:1500': 0.7750741229231614,\n",
       " 'n_rows:400_n_files:2000': 0.8369580176239164,\n",
       " 'n_rows:400_n_files:2500': 0.8369580176239164,\n",
       " 'n_rows:500_n_files:100': 0.4867894716203843,\n",
       " 'n_rows:500_n_files:300': 0.6630032415960315,\n",
       " 'n_rows:500_n_files:500': 0.7124103750081101,\n",
       " 'n_rows:500_n_files:700': 0.7402557544878187,\n",
       " 'n_rows:500_n_files:1000': 0.7744991787635241,\n",
       " 'n_rows:500_n_files:1500': 0.7859649324025498,\n",
       " 'n_rows:500_n_files:2000': 0.836456301449526,\n",
       " 'n_rows:500_n_files:2500': 0.836456301449526,\n",
       " 'n_rows:700_n_files:100': 0.4853735734260799,\n",
       " 'n_rows:700_n_files:300': 0.6552571270030109,\n",
       " 'n_rows:700_n_files:500': 0.7481263790142583,\n",
       " 'n_rows:700_n_files:700': 0.724356705499076,\n",
       " 'n_rows:700_n_files:1000': 0.7660394546676627,\n",
       " 'n_rows:700_n_files:1500': 0.7837440038778904,\n",
       " 'n_rows:700_n_files:2000': 0.8145135864657028,\n",
       " 'n_rows:700_n_files:2500': 0.8145135864657028,\n",
       " 'n_rows:800_n_files:100': 0.5002123587575377,\n",
       " 'n_rows:800_n_files:300': 0.6501907488850535,\n",
       " 'n_rows:800_n_files:500': 0.7419366292652511,\n",
       " 'n_rows:800_n_files:700': 0.7207949406761716,\n",
       " 'n_rows:800_n_files:1000': 0.7725200604753775,\n",
       " 'n_rows:800_n_files:1500': 0.7856075264509048,\n",
       " 'n_rows:800_n_files:2000': 0.8429907570955987,\n",
       " 'n_rows:800_n_files:2500': 0.8429907570955987,\n",
       " 'n_rows:1000_n_files:100': 0.49590204403949206,\n",
       " 'n_rows:1000_n_files:300': 0.6525648822020477,\n",
       " 'n_rows:1000_n_files:500': 0.7092199843739909,\n",
       " 'n_rows:1000_n_files:700': 0.7277127850505329,\n",
       " 'n_rows:1000_n_files:1000': 0.7602956880995563,\n",
       " 'n_rows:1000_n_files:1500': 0.8174789163434014,\n",
       " 'n_rows:1000_n_files:2000': 0.8357192277937915,\n",
       " 'n_rows:1000_n_files:2500': 0.8357192277937915}"
      ]
     },
     "execution_count": 3,
     "metadata": {},
     "output_type": "execute_result"
    }
   ],
   "source": [
    "gs_info"
   ]
  },
  {
   "cell_type": "code",
   "execution_count": 4,
   "metadata": {},
   "outputs": [],
   "source": [
    "gs_info\n",
    "df_dict_gs = {\"Number of rows\":[], \"Number of files\":[], \"F1_macro\":[]}\n",
    "\n"
   ]
  },
  {
   "cell_type": "code",
   "execution_count": 5,
   "metadata": {},
   "outputs": [
    {
     "data": {
      "text/plain": [
       "['20']"
      ]
     },
     "execution_count": 5,
     "metadata": {},
     "output_type": "execute_result"
    }
   ],
   "source": [
    "re.findall(r\"n_rows:(\\d+)\", 'n_rows:20_n_files:1500')"
   ]
  },
  {
   "cell_type": "code",
   "execution_count": 6,
   "metadata": {},
   "outputs": [],
   "source": [
    "for params, result in gs_info.items():\n",
    "    n_rows = int(re.findall(r\"n_rows:(\\d+)\", params)[0])\n",
    "    n_files = int(re.findall(r\"n_files:(\\d+)\", params)[0])\n",
    "    df_dict_gs[\"Number of rows\"].append(n_rows)\n",
    "    df_dict_gs[\"Number of files\"].append(n_files)\n",
    "    df_dict_gs[\"F1_macro\"].append(result)\n",
    "    "
   ]
  },
  {
   "cell_type": "code",
   "execution_count": 7,
   "metadata": {},
   "outputs": [],
   "source": [
    "df_gs = pd.DataFrame(df_dict_gs)"
   ]
  },
  {
   "cell_type": "code",
   "execution_count": 8,
   "metadata": {},
   "outputs": [
    {
     "data": {
      "image/png": "[encoded data removed]",
      "text/plain": [
       "<Figure size 432x288 with 1 Axes>"
      ]
     },
     "metadata": {
      "needs_background": "light"
     },
     "output_type": "display_data"
    }
   ],
   "source": [
    "cmap = sns.cubehelix_palette(dark=.3, light=.8, as_cmap=True)\n",
    "ax2 = sns.scatterplot(x=\"Number of files\", y=\"F1_macro\", data=df_gs, hue=\"Number of rows\", palette=\"Paired\")"
   ]
  },
  {
   "cell_type": "code",
   "execution_count": null,
   "metadata": {},
   "outputs": [],
   "source": [
    "## Ablation bar graph"
   ]
  },
  {
   "cell_type": "code",
   "execution_count": 10,
   "metadata": {},
   "outputs": [],
   "source": [
    "abl = json.load(open(\"../data/ablation_results.json\"))\n"
   ]
  },
  {
   "cell_type": "code",
   "execution_count": 12,
   "metadata": {},
   "outputs": [],
   "source": [
    "df_dict_abl = {\"features_used\":[], \"F1_macro\":[]}"
   ]
  },
  {
   "cell_type": "code",
   "execution_count": 13,
   "metadata": {},
   "outputs": [],
   "source": [
    "for k,v in list(abl.items())[:-1]:\n",
    "    df_dict_abl[\"features_used\"].append(k)\n",
    "    df_dict_abl[\"F1_macro\"].append(v[\"f_score\"])"
   ]
  },
  {
   "cell_type": "code",
   "execution_count": 15,
   "metadata": {},
   "outputs": [
    {
     "data": {
      "text/html": [
       "<div>\n",
       "<style scoped>\n",
       "    .dataframe tbody tr th:only-of-type {\n",
       "        vertical-align: middle;\n",
       "    }\n",
       "\n",
       "    .dataframe tbody tr th {\n",
       "        vertical-align: top;\n",
       "    }\n",
       "\n",
       "    .dataframe thead th {\n",
       "        text-align: right;\n",
       "    }\n",
       "</style>\n",
       "<table border=\"1\" class=\"dataframe\">\n",
       "  <thead>\n",
       "    <tr style=\"text-align: right;\">\n",
       "      <th></th>\n",
       "      <th>features_used</th>\n",
       "      <th>F1_macro</th>\n",
       "    </tr>\n",
       "  </thead>\n",
       "  <tbody>\n",
       "    <tr>\n",
       "      <th>0</th>\n",
       "      <td>custom_features</td>\n",
       "      <td>0.187226</td>\n",
       "    </tr>\n",
       "    <tr>\n",
       "      <th>1</th>\n",
       "      <td>cell_features</td>\n",
       "      <td>0.758357</td>\n",
       "    </tr>\n",
       "    <tr>\n",
       "      <th>2</th>\n",
       "      <td>header_features</td>\n",
       "      <td>0.631361</td>\n",
       "    </tr>\n",
       "    <tr>\n",
       "      <th>3</th>\n",
       "      <td>custom_cell</td>\n",
       "      <td>0.678490</td>\n",
       "    </tr>\n",
       "    <tr>\n",
       "      <th>4</th>\n",
       "      <td>custom_header</td>\n",
       "      <td>0.589235</td>\n",
       "    </tr>\n",
       "    <tr>\n",
       "      <th>5</th>\n",
       "      <td>cell_header</td>\n",
       "      <td>0.874259</td>\n",
       "    </tr>\n",
       "    <tr>\n",
       "      <th>6</th>\n",
       "      <td>custom_cell_header</td>\n",
       "      <td>0.840462</td>\n",
       "    </tr>\n",
       "  </tbody>\n",
       "</table>\n",
       "</div>"
      ],
      "text/plain": [
       "        features_used  F1_macro\n",
       "0     custom_features  0.187226\n",
       "1       cell_features  0.758357\n",
       "2     header_features  0.631361\n",
       "3         custom_cell  0.678490\n",
       "4       custom_header  0.589235\n",
       "5         cell_header  0.874259\n",
       "6  custom_cell_header  0.840462"
      ]
     },
     "execution_count": 15,
     "metadata": {},
     "output_type": "execute_result"
    }
   ],
   "source": [
    "df_abl = pd.DataFrame(df_dict_abl)\n",
    "df_abl"
   ]
  },
  {
   "cell_type": "code",
   "execution_count": 16,
   "metadata": {},
   "outputs": [
    {
     "data": {
      "text/plain": [
       "(array([0, 1, 2, 3, 4, 5, 6]), <a list of 7 Text xticklabel objects>)"
      ]
     },
     "execution_count": 16,
     "metadata": {},
     "output_type": "execute_result"
    },
    {
     "data": {
      "image/png": "[encoded data removed]",
      "text/plain": [
       "<Figure size 432x288 with 1 Axes>"
      ]
     },
     "metadata": {
      "needs_background": "light"
     },
     "output_type": "display_data"
    }
   ],
   "source": [
    "cmap = sns.cubehelix_palette(light=1, as_cmap=True)\n",
    "sns.barplot(x=\"features_used\", y=\"F1_macro\", data=df_abl, palette=\"Paired\")\n",
    "\n",
    "plt.xticks(rotation=90)"
   ]
  },
  {
   "cell_type": "code",
   "execution_count": null,
   "metadata": {},
   "outputs": [],
   "source": []
  }
 ],
 "metadata": {
  "kernelspec": {
   "display_name": "Python 3",
   "language": "python",
   "name": "python3"
  },
  "language_info": {
   "codemirror_mode": {
    "name": "ipython",
    "version": 3
   },
   "file_extension": ".py",
   "mimetype": "text/x-python",
   "name": "python",
   "nbconvert_exporter": "python",
   "pygments_lexer": "ipython3",
   "version": "3.7.3"
  }
 },
 "nbformat": 4,
 "nbformat_minor": 2
}
