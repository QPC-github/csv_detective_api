{
 "cells": [
  {
   "cell_type": "code",
   "execution_count": 1,
   "metadata": {},
   "outputs": [],
   "source": [
    "import matplotlib.pyplot as plt\n",
    "%matplotlib inline\n",
    "import seaborn as sns\n",
    "import json\n",
    "import re\n",
    "import pandas as pd\n",
    "import numpy as np"
   ]
  },
  {
   "cell_type": "code",
   "execution_count": 2,
   "metadata": {},
   "outputs": [],
   "source": [
    "gs_info = json.load(open(\"../data/results_grid_search.json\"))"
   ]
  },
  {
   "cell_type": "code",
   "execution_count": 3,
   "metadata": {},
   "outputs": [
    {
     "data": {
      "text/plain": [
       "[('n_rows:500_n_files:100', 0.4934814158137814),\n",
       " ('n_rows:300_n_files:100', 0.49372455345449673),\n",
       " ('n_rows:200_n_files:100', 0.4948792212983803),\n",
       " ('n_rows:700_n_files:100', 0.4953543037538471),\n",
       " ('n_rows:1000_n_files:100', 0.4976028643343013),\n",
       " ('n_rows:75_n_files:100', 0.51920383633141),\n",
       " ('n_rows:50_n_files:100', 0.5205972927270528),\n",
       " ('n_rows:100_n_files:100', 0.526731102484358),\n",
       " ('n_rows:20_n_files:100', 0.5311187595737543),\n",
       " ('n_rows:1000_n_files:300', 0.7235552807108552),\n",
       " ('n_rows:50_n_files:300', 0.7292297407957892),\n",
       " ('n_rows:75_n_files:300', 0.7345213093605322),\n",
       " ('n_rows:500_n_files:300', 0.7357174713211048),\n",
       " ('n_rows:20_n_files:300', 0.7372874922715005),\n",
       " ('n_rows:700_n_files:300', 0.7376723823315479),\n",
       " ('n_rows:300_n_files:300', 0.7402992386083254),\n",
       " ('n_rows:100_n_files:300', 0.7410639052717738),\n",
       " ('n_rows:200_n_files:300', 0.74328778101241),\n",
       " ('n_rows:1000_n_files:500', 0.7633078728175929),\n",
       " ('n_rows:1000_n_files:700', 0.7872796200653839),\n",
       " ('n_rows:500_n_files:700', 0.7925260626670161),\n",
       " ('n_rows:500_n_files:500', 0.7981399940767478),\n",
       " ('n_rows:300_n_files:700', 0.7985426333843272),\n",
       " ('n_rows:300_n_files:500', 0.8010327525702792),\n",
       " ('n_rows:700_n_files:500', 0.8010765543976827),\n",
       " ('n_rows:200_n_files:700', 0.8016990192186448),\n",
       " ('n_rows:200_n_files:500', 0.8068915263796884),\n",
       " ('n_rows:100_n_files:500', 0.807925102423795),\n",
       " ('n_rows:20_n_files:500', 0.8082641670876927),\n",
       " ('n_rows:100_n_files:700', 0.8083806897656066),\n",
       " ('n_rows:75_n_files:500', 0.8106486858989989),\n",
       " ('n_rows:50_n_files:500', 0.8122498837561926),\n",
       " ('n_rows:700_n_files:700', 0.8214533910389324),\n",
       " ('n_rows:20_n_files:700', 0.8357068571260573),\n",
       " ('n_rows:50_n_files:700', 0.8358531351028384),\n",
       " ('n_rows:75_n_files:700', 0.8376122719045034),\n",
       " ('n_rows:1000_n_files:1000', 0.8517653541819664),\n",
       " ('n_rows:700_n_files:1000', 0.8525905453045164),\n",
       " ('n_rows:20_n_files:1000', 0.8550183542333109),\n",
       " ('n_rows:500_n_files:1000', 0.8574626748250448),\n",
       " ('n_rows:50_n_files:1000', 0.8584501661937165),\n",
       " ('n_rows:75_n_files:1000', 0.859934338639731),\n",
       " ('n_rows:300_n_files:1000', 0.860604839231006),\n",
       " ('n_rows:100_n_files:1000', 0.8621894911236765),\n",
       " ('n_rows:200_n_files:1000', 0.8659740198900147),\n",
       " ('n_rows:1000_n_files:1500', 0.8695071025984572),\n",
       " ('n_rows:20_n_files:1500', 0.8715191744185854),\n",
       " ('n_rows:300_n_files:1500', 0.8718316317270591),\n",
       " ('n_rows:700_n_files:1500', 0.8722842752236375),\n",
       " ('n_rows:1000_n_files:3000', 0.8724276273382527),\n",
       " ('n_rows:50_n_files:1500', 0.8727653395172806),\n",
       " ('n_rows:50_n_files:3000', 0.8733573142080692),\n",
       " ('n_rows:75_n_files:1500', 0.8734844497603009),\n",
       " ('n_rows:100_n_files:1500', 0.8742405764921513),\n",
       " ('n_rows:200_n_files:1500', 0.874785134840059),\n",
       " ('n_rows:500_n_files:1500', 0.8756157685034023),\n",
       " ('n_rows:20_n_files:3000', 0.8764238097842052),\n",
       " ('n_rows:700_n_files:3000', 0.8778560221550807),\n",
       " ('n_rows:75_n_files:3000', 0.8786494742514661),\n",
       " ('n_rows:100_n_files:3000', 0.8794636590732852),\n",
       " ('n_rows:200_n_files:3000', 0.8810638600492542),\n",
       " ('n_rows:300_n_files:3000', 0.8813915561211204),\n",
       " ('n_rows:500_n_files:3000', 0.8824156682431631)]"
      ]
     },
     "execution_count": 3,
     "metadata": {},
     "output_type": "execute_result"
    }
   ],
   "source": [
    "sorted(gs_info.items(), key=lambda x: x[1])"
   ]
  },
  {
   "cell_type": "code",
   "execution_count": 4,
   "metadata": {},
   "outputs": [],
   "source": [
    "df_dict_gs = {\"Number of rows\":[], \"Number of files\":[], \"F1_macro\":[]}\n",
    "\n"
   ]
  },
  {
   "cell_type": "code",
   "execution_count": 5,
   "metadata": {},
   "outputs": [
    {
     "data": {
      "text/plain": [
       "['20']"
      ]
     },
     "execution_count": 5,
     "metadata": {},
     "output_type": "execute_result"
    }
   ],
   "source": [
    "re.findall(r\"n_rows:(\\d+)\", 'n_rows:20_n_files:1500')"
   ]
  },
  {
   "cell_type": "code",
   "execution_count": 6,
   "metadata": {},
   "outputs": [],
   "source": [
    "for params, result in gs_info.items():\n",
    "    n_rows = int(re.findall(r\"n_rows:(\\d+)\", params)[0])\n",
    "    n_files = int(re.findall(r\"n_files:(\\d+)\", params)[0])\n",
    "    df_dict_gs[\"Number of rows\"].append(n_rows)\n",
    "    df_dict_gs[\"Number of files\"].append(n_files)\n",
    "    df_dict_gs[\"F1_macro\"].append(result)\n",
    "    "
   ]
  },
  {
   "cell_type": "code",
   "execution_count": 7,
   "metadata": {},
   "outputs": [],
   "source": [
    "df_gs = pd.DataFrame(df_dict_gs)"
   ]
  },
  {
   "cell_type": "code",
   "execution_count": 8,
   "metadata": {},
   "outputs": [
    {
     "data": {
      "image/png": "[encoded data removed]",
      "text/plain": [
       "<Figure size 432x288 with 1 Axes>"
      ]
     },
     "metadata": {
      "needs_background": "light"
     },
     "output_type": "display_data"
    }
   ],
   "source": [
    "cmap = sns.cubehelix_palette(dark=.3, light=.8, as_cmap=True)\n",
    "ax2 = sns.scatterplot(x=\"Number of files\", y=\"F1_macro\", data=df_gs, hue=\"Number of rows\", palette=\"Paired\")"
   ]
  },
  {
   "cell_type": "code",
   "execution_count": null,
   "metadata": {},
   "outputs": [],
   "source": [
    "## Ablation bar graph"
   ]
  },
  {
   "cell_type": "code",
   "execution_count": 9,
   "metadata": {},
   "outputs": [],
   "source": [
    "abl = json.load(open(\"../data/ablation_results.json\"))\n"
   ]
  },
  {
   "cell_type": "code",
   "execution_count": 10,
   "metadata": {},
   "outputs": [],
   "source": [
    "df_dict_abl = {\"features_used\":[], \"F1_macro\":[]}"
   ]
  },
  {
   "cell_type": "code",
   "execution_count": 11,
   "metadata": {},
   "outputs": [],
   "source": [
    "for k,v in list(abl.items())[:-1]:\n",
    "    df_dict_abl[\"features_used\"].append(k)\n",
    "    df_dict_abl[\"F1_macro\"].append(v[\"f_score\"])"
   ]
  },
  {
   "cell_type": "code",
   "execution_count": 12,
   "metadata": {},
   "outputs": [
    {
     "data": {
      "text/html": [
       "<div>\n",
       "<style scoped>\n",
       "    .dataframe tbody tr th:only-of-type {\n",
       "        vertical-align: middle;\n",
       "    }\n",
       "\n",
       "    .dataframe tbody tr th {\n",
       "        vertical-align: top;\n",
       "    }\n",
       "\n",
       "    .dataframe thead th {\n",
       "        text-align: right;\n",
       "    }\n",
       "</style>\n",
       "<table border=\"1\" class=\"dataframe\">\n",
       "  <thead>\n",
       "    <tr style=\"text-align: right;\">\n",
       "      <th></th>\n",
       "      <th>features_used</th>\n",
       "      <th>F1_macro</th>\n",
       "    </tr>\n",
       "  </thead>\n",
       "  <tbody>\n",
       "    <tr>\n",
       "      <th>0</th>\n",
       "      <td>custom_features</td>\n",
       "      <td>0.216842</td>\n",
       "    </tr>\n",
       "    <tr>\n",
       "      <th>1</th>\n",
       "      <td>cell_features</td>\n",
       "      <td>0.739018</td>\n",
       "    </tr>\n",
       "    <tr>\n",
       "      <th>2</th>\n",
       "      <td>header_features</td>\n",
       "      <td>0.641906</td>\n",
       "    </tr>\n",
       "    <tr>\n",
       "      <th>3</th>\n",
       "      <td>custom_cell</td>\n",
       "      <td>0.641756</td>\n",
       "    </tr>\n",
       "    <tr>\n",
       "      <th>4</th>\n",
       "      <td>custom_header</td>\n",
       "      <td>0.610330</td>\n",
       "    </tr>\n",
       "    <tr>\n",
       "      <th>5</th>\n",
       "      <td>cell_header</td>\n",
       "      <td>0.882416</td>\n",
       "    </tr>\n",
       "    <tr>\n",
       "      <th>6</th>\n",
       "      <td>custom_cell_header</td>\n",
       "      <td>0.836456</td>\n",
       "    </tr>\n",
       "  </tbody>\n",
       "</table>\n",
       "</div>"
      ],
      "text/plain": [
       "        features_used  F1_macro\n",
       "0     custom_features  0.216842\n",
       "1       cell_features  0.739018\n",
       "2     header_features  0.641906\n",
       "3         custom_cell  0.641756\n",
       "4       custom_header  0.610330\n",
       "5         cell_header  0.882416\n",
       "6  custom_cell_header  0.836456"
      ]
     },
     "execution_count": 12,
     "metadata": {},
     "output_type": "execute_result"
    }
   ],
   "source": [
    "df_abl = pd.DataFrame(df_dict_abl)\n",
    "df_abl"
   ]
  },
  {
   "cell_type": "code",
   "execution_count": 13,
   "metadata": {},
   "outputs": [
    {
     "data": {
      "text/plain": [
       "(array([0, 1, 2, 3, 4, 5, 6]), <a list of 7 Text xticklabel objects>)"
      ]
     },
     "execution_count": 13,
     "metadata": {},
     "output_type": "execute_result"
    },
    {
     "data": {
      "image/png": "[encoded data removed]",
      "text/plain": [
       "<Figure size 432x288 with 1 Axes>"
      ]
     },
     "metadata": {
      "needs_background": "light"
     },
     "output_type": "display_data"
    }
   ],
   "source": [
    "cmap = sns.cubehelix_palette(light=1, as_cmap=True)\n",
    "sns.barplot(x=\"features_used\", y=\"F1_macro\", data=df_abl, palette=\"Paired\")\n",
    "\n",
    "plt.xticks(rotation=90)"
   ]
  },
  {
   "cell_type": "code",
   "execution_count": null,
   "metadata": {},
   "outputs": [],
   "source": []
  }
 ],
 "metadata": {
  "kernelspec": {
   "display_name": "Python 3",
   "language": "python",
   "name": "python3"
  },
  "language_info": {
   "codemirror_mode": {
    "name": "ipython",
    "version": 3
   },
   "file_extension": ".py",
   "mimetype": "text/x-python",
   "name": "python",
   "nbconvert_exporter": "python",
   "pygments_lexer": "ipython3",
   "version": "3.7.3"
  }
 },
 "nbformat": 4,
 "nbformat_minor": 2
}
